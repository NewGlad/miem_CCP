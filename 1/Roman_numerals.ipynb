{
 "cells": [
  {
   "cell_type": "markdown",
   "metadata": {},
   "source": [
    "# Roman numerals"
   ]
  },
  {
   "cell_type": "markdown",
   "metadata": {},
   "source": [
    "## I. Roman numerals to decimals\n",
    "\n",
    "Write a function which receives a Roman numeral written out as a string, and returns an integer representing the decimal form of the input number. "
   ]
  },
  {
   "cell_type": "code",
   "execution_count": 1,
   "metadata": {},
   "outputs": [],
   "source": [
    "mapping = {\n",
    "    \"I\" : 1, \n",
    "    \"V\" : 5,\n",
    "    \"X\" : 10,\n",
    "    \"L\" : 50,\n",
    "    \"C\" : 100,\n",
    "    \"D\" : 500,\n",
    "    \"M\" : 1000\n",
    "}"
   ]
  },
  {
   "cell_type": "code",
   "execution_count": 2,
   "metadata": {},
   "outputs": [],
   "source": [
    "def roman_to_decimal(rom):\n",
    "    \"\"\"Convert a Roman numeral to decimal.\n",
    "    \n",
    "    Parameters\n",
    "    ----------\n",
    "    rom : str\n",
    "        A Roman numeral representing a positive integer.\n",
    "        \n",
    "    Returns\n",
    "    -------\n",
    "    dec : int\n",
    "        The result of conversion of `rom` into a decimal system.\n",
    "    \"\"\"\n",
    "    result = 0\n",
    "    nums = [mapping[item] for item in rom]\n",
    "    for idx in range(len(nums) - 1):\n",
    "        val = nums[idx]\n",
    "        next_val = nums[idx + 1]\n",
    "    \n",
    "        if val >= next_val:\n",
    "            result += val\n",
    "        else:\n",
    "            result -= val\n",
    "\n",
    "    result += nums[-1]\n",
    "    \n",
    "    return result"
   ]
  },
  {
   "cell_type": "markdown",
   "metadata": {},
   "source": [
    "Here are some tests for you to test your code. Your code must pass all of them. You also need to come up with several more tests (your choice)."
   ]
  },
  {
   "cell_type": "code",
   "execution_count": 3,
   "metadata": {},
   "outputs": [
    {
     "name": "stdout",
     "output_type": "stream",
     "text": [
      "True\n"
     ]
    }
   ],
   "source": [
    "test_pairs = [(\"IX\", 9), (\"XI\", 11), (\"MCCII\", 1202), (\"MMXVIII\", 2018), (\"XLIX\", 49),\n",
    "              (\"XVIIII\", 19), (\"XIX\", 19), (\"MCDXLIV\", 1444), (\"MCMXCIX\", 1999)]\n",
    "\n",
    "print(all([dec == roman_to_decimal(rom) for rom, dec in test_pairs]))"
   ]
  },
  {
   "cell_type": "markdown",
   "metadata": {},
   "source": [
    "Now you can run tests in file `tests_Roman_numerals.txt`. You need to insert a number of false results and listed false results in respective field in Google Form for this lesson."
   ]
  },
  {
   "cell_type": "code",
   "execution_count": 5,
   "metadata": {},
   "outputs": [],
   "source": [
    "p = \"tests_Roman_numerals.txt\"\n",
    "with open(p, \"rb\") as fp:\n",
    "    lines=fp.readlines()\n",
    "\n",
    "test_data = [line.strip().decode(\"ascii\").split(',') for line in lines]\n",
    "test_data = [(line[0], int(line[1])) for line in test_data]\n",
    "\n",
    "false_test_cases = []\n",
    "for rom, dec in test_data:\n",
    "    converted = roman_to_decimal(rom)\n",
    "    if not converted == dec:\n",
    "        false_test_cases.append((rom, dec))"
   ]
  },
  {
   "cell_type": "code",
   "execution_count": 7,
   "metadata": {},
   "outputs": [
    {
     "data": {
      "text/plain": [
       "'False test cases: 7/300'"
      ]
     },
     "execution_count": 7,
     "metadata": {},
     "output_type": "execute_result"
    }
   ],
   "source": [
    "f\"False test cases: {len(false_test_cases)}/{len(test_data)}\""
   ]
  },
  {
   "cell_type": "markdown",
   "metadata": {},
   "source": [
    "Make a comma-separated list of all roman numerals with false results in test file tests_roman_to_decimal.txt (sorted by decimal result in file in ascending order). *"
   ]
  },
  {
   "cell_type": "code",
   "execution_count": 13,
   "metadata": {},
   "outputs": [
    {
     "data": {
      "text/plain": [
       "'LXXXIV,CDXXIX,DCCXCVII,MCCXLVIII,MCCLXX,MDCCX,MDCCXCI'"
      ]
     },
     "execution_count": 13,
     "metadata": {},
     "output_type": "execute_result"
    }
   ],
   "source": [
    "result = []\n",
    "for rom, _ in false_test_cases:\n",
    "    dec = roman_to_decimal(rom)\n",
    "    \n",
    "    result.append((dec, rom))\n",
    "    \n",
    "result.sort(key=lambda tuple_: tuple_[0])\n",
    "_, romans = list(zip(*result))\n",
    "\",\".join(romans)"
   ]
  },
  {
   "cell_type": "markdown",
   "metadata": {},
   "source": [
    "## II. Decimal numbers to roman numerals.\n",
    "\n",
    "The maximum grade for first task (Roman to decimal) is 7 on the 10-point HSE scale. For extra credit, complete the second task: *given a decimal number, convert it to the Roman form*."
   ]
  },
  {
   "cell_type": "code",
   "execution_count": 18,
   "metadata": {},
   "outputs": [],
   "source": [
    "def decimal_to_roman(dec):\n",
    "    \"\"\"Convert a decimal to the Roman form.\n",
    "    \n",
    "    Parameters\n",
    "    ----------\n",
    "    dec : int\n",
    "        A positive integer number\n",
    "    \n",
    "    Returns\n",
    "    -------\n",
    "    rom : str\n",
    "        A string representation of a Roman numeral form of `dec`.\n",
    "    \"\"\"\n",
    "    decs = [\n",
    "        1000, 900, 500, 400,\n",
    "        100, 90, 50, 40,\n",
    "        10, 9, 5, 4,\n",
    "        1\n",
    "        ]\n",
    "    romans = [\n",
    "        \"M\", \"CM\", \"D\", \"CD\",\n",
    "        \"C\", \"XC\", \"L\", \"XL\",\n",
    "        \"X\", \"IX\", \"V\", \"IV\",\n",
    "        \"I\"\n",
    "        ]\n",
    "    roman_num = ''\n",
    "    i = 0\n",
    "    while  dec > 0:\n",
    "        for _ in range(dec // decs[i]):\n",
    "            roman_num += romans[i]\n",
    "            dec -= decs[i]\n",
    "        i += 1\n",
    "    return roman_num"
   ]
  },
  {
   "cell_type": "code",
   "execution_count": 21,
   "metadata": {},
   "outputs": [],
   "source": [
    "p = \"tests_Roman_numerals.txt\"\n",
    "with open(p, \"rb\") as fp:\n",
    "    lines=fp.readlines()\n",
    "\n",
    "test_data = [line.strip().decode(\"ascii\").split(',') for line in lines]\n",
    "test_data = [(line[0], int(line[1])) for line in test_data]\n",
    "\n",
    "false_test_cases = []\n",
    "for rom, dec in test_data:\n",
    "    converted = decimal_to_roman(dec)\n",
    "    if rom != converted:\n",
    "        false_test_cases.append((rom, dec))"
   ]
  },
  {
   "cell_type": "code",
   "execution_count": 22,
   "metadata": {},
   "outputs": [
    {
     "data": {
      "text/plain": [
       "'False test cases: 7/300'"
      ]
     },
     "execution_count": 22,
     "metadata": {},
     "output_type": "execute_result"
    }
   ],
   "source": [
    "f\"False test cases: {len(false_test_cases)}/{len(test_data)}\""
   ]
  },
  {
   "cell_type": "code",
   "execution_count": 23,
   "metadata": {},
   "outputs": [
    {
     "data": {
      "text/plain": [
       "'LXXXI,CDXXX,DCCXCIX,MCCXLVI,MCCLXXIII,MDCCVIII,MDCCXC'"
      ]
     },
     "execution_count": 23,
     "metadata": {},
     "output_type": "execute_result"
    }
   ],
   "source": [
    "result = []\n",
    "for _, dec in false_test_cases:\n",
    "    rom = decimal_to_roman(dec)\n",
    "    \n",
    "    result.append((dec, rom))\n",
    "    \n",
    "result.sort(key=lambda tuple_: tuple_[0])\n",
    "_, romans = list(zip(*result))\n",
    "\",\".join(romans)"
   ]
  }
 ],
 "metadata": {
  "kernelspec": {
   "display_name": "Python 3",
   "language": "python",
   "name": "python3"
  },
  "language_info": {
   "codemirror_mode": {
    "name": "ipython",
    "version": 3
   },
   "file_extension": ".py",
   "mimetype": "text/x-python",
   "name": "python",
   "nbconvert_exporter": "python",
   "pygments_lexer": "ipython3",
   "version": "3.6.8"
  }
 },
 "nbformat": 4,
 "nbformat_minor": 2
}
