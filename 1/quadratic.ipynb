{
 "cells": [
  {
   "cell_type": "markdown",
   "metadata": {},
   "source": [
    "## Solve a quadratic equation, $x^2 + b x + c = 0$.\n",
    "\n",
    "\n",
    "Write a function which receives $b$ and $c$, the coefficients of a monic quadratic polynomial, $x^2 + b x + c$, and returns the pair of its roots. Your function should always return two values, even if quadratic has a double root.\n",
    "\n",
    "For example, given a quadratic $x^2 - 2x + 1$, your function should return a pair of $(1, 1)$. Of course, in floating point, your answers may differ from an exact unity.\n",
    "\n",
    "Your function also must correctly handle complex roots (to this end, you might need the `cmath` module from the standard library)."
   ]
  },
  {
   "cell_type": "code",
   "execution_count": 1,
   "metadata": {},
   "outputs": [],
   "source": [
    "import numpy as np\n",
    "import cmath\n",
    "import math\n",
    "import decimal\n",
    "from decimal import Decimal\n",
    "decimal.getcontext().prec = 40\n",
    "\n",
    "def solve_quad(b, c):\n",
    "    \"\"\"Solve a quadratic equation, x**2 + bx + c = 0.\n",
    "    \n",
    "    Parameters\n",
    "    ----------\n",
    "    b, c : float\n",
    "       Coefficients\n",
    "       \n",
    "    Returns\n",
    "    -------\n",
    "    x1, x2 : float or complex\n",
    "       Roots.\n",
    "    \"\"\"\n",
    "    \n",
    "    #return np.roots([1,b,c])\n",
    "    b = Decimal(b)\n",
    "    c = Decimal(c)\n",
    "    d4 = Decimal(4)\n",
    "    d2 = Decimal(2)\n",
    "\n",
    "    \n",
    "    d = b*b - d4*c\n",
    "    \n",
    "    if d >= 0:\n",
    "    \n",
    "        x1 = (-b + d.sqrt()) / d2\n",
    "        x2 = (-b - d.sqrt()) / d2\n",
    "        return float(x1), float(x2)\n",
    "    \n",
    "    else:\n",
    "        b = float(b)\n",
    "        c = float(c)\n",
    "        d = float(d)\n",
    "        x1 = (-b + cmath.sqrt(d)) / 2 \n",
    "        x2 = (-b - cmath.sqrt(d)) / 2\n",
    "    return x1, x2"
   ]
  },
  {
   "cell_type": "markdown",
   "metadata": {},
   "source": [
    "Test the your function on several examples against a calculation by hand. Once you're sure that your function works, try these five test cases below. \n",
    "\n",
    "Note that the last two test cases are special: they test whether your function handles extreme cases where a too simple approach is prone to a catastrophic cancellation. Make sure your function passes all five tests."
   ]
  },
  {
   "cell_type": "code",
   "execution_count": 2,
   "metadata": {},
   "outputs": [],
   "source": [
    "from numpy import allclose"
   ]
  },
  {
   "cell_type": "code",
   "execution_count": 5,
   "metadata": {},
   "outputs": [],
   "source": [
    "variants = [\n",
    "    {'b': 4.0, 'c': 3.0},\n",
    "    {'b': 2.0, 'c': 1.0},\n",
    "    {'b': 0.5, 'c': 4.0},\n",
    "    {'b': 1e10, 'c': 3.0},\n",
    "    {'b': -1e10, 'c': 4.0},\n",
    "]"
   ]
  },
  {
   "cell_type": "code",
   "execution_count": 6,
   "metadata": {},
   "outputs": [
    {
     "name": "stdout",
     "output_type": "stream",
     "text": [
      "True\n",
      "True\n",
      "True\n",
      "True\n",
      "True\n"
     ]
    }
   ],
   "source": [
    "for var in variants:\n",
    "    x1, x2 = solve_quad(**var)\n",
    "    print(allclose(x1*x2, var['c']))"
   ]
  },
  {
   "cell_type": "code",
   "execution_count": null,
   "metadata": {},
   "outputs": [],
   "source": []
  }
 ],
 "metadata": {
  "kernelspec": {
   "display_name": "Python 3",
   "language": "python",
   "name": "python3"
  },
  "language_info": {
   "codemirror_mode": {
    "name": "ipython",
    "version": 3
   },
   "file_extension": ".py",
   "mimetype": "text/x-python",
   "name": "python",
   "nbconvert_exporter": "python",
   "pygments_lexer": "ipython3",
   "version": "3.6.8"
  }
 },
 "nbformat": 4,
 "nbformat_minor": 2
}
