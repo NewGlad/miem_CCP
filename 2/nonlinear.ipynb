{
 "cells": [
  {
   "cell_type": "markdown",
   "metadata": {},
   "source": [
    "# 1. Fixed-point iteration"
   ]
  },
  {
   "cell_type": "markdown",
   "metadata": {},
   "source": [
    "Rewrite $f(x) = 0$ as $x = \\phi(x)$ so that\n",
    "$$f(x_*) = 0 \\Leftrightarrow x_* = \\phi(x_*),$$\n",
    "where $x_*$ is the root of the first equation.\n",
    "\n",
    "The simplest way of costructing $\\phi(x)$ is\n",
    "$$\\phi(x) = x - \\alpha f(x).$$"
   ]
  },
  {
   "cell_type": "markdown",
   "metadata": {},
   "source": [
    "The iterative process\n",
    "$$x_{n+1} = \\phi(x_{n})$$\n",
    "converges to the root $x_*$ if $\\lim\\limits_{n \\rightarrow} x_n = x_*$."
   ]
  },
  {
   "cell_type": "markdown",
   "metadata": {},
   "source": [
    "Consider the following equation:\n",
    "\n",
    "$$\n",
    "\\sqrt{x} = \\cos{x}\n",
    "$$\n",
    "\n",
    "Plot the left-hand side and right-hand side of this equation, and localize the root graphically. Estimate the location of the root by visual inspection of the plot.\n",
    "\n",
    "Write a function which finds the solution using fixed-point iteration up to a predefined accuracy $\\epsilon$ in the form\n",
    "\n",
    "$$\n",
    "\\phi(x) = x - \\alpha f(x),\n",
    "$$\n",
    "\n",
    "where $\\alpha$ is the free parameter. Check the dependence of the number of iterations required for a given $\\epsilon$ on $\\alpha$ (visualize this dependence for three different values of $epsilon$). Compare your results to an expectation that the optimal value of $\\alpha$ is given by \n",
    "\n",
    "$$\n",
    "\\alpha = \\frac{2}{m + M}\n",
    "$$\n",
    "\n",
    "where $0 < m < |f'(x)| < M$ over the localization interval (highlight it on the plot)."
   ]
  },
  {
   "cell_type": "code",
   "execution_count": 1,
   "metadata": {},
   "outputs": [],
   "source": [
    "import numpy as np\n",
    "import matplotlib.pyplot as plt"
   ]
  },
  {
   "cell_type": "code",
   "execution_count": 2,
   "metadata": {},
   "outputs": [
    {
     "data": {
      "text/plain": [
       "(0.6, 1)"
      ]
     },
     "execution_count": 2,
     "metadata": {},
     "output_type": "execute_result"
    },
    {
     "data": {
      "image/png": "[encoded data removed]",
      "text/plain": [
       "<Figure size 432x288 with 1 Axes>"
      ]
     },
     "metadata": {
      "needs_background": "light"
     },
     "output_type": "display_data"
    }
   ],
   "source": [
    "xs = np.arange(0, 3., 0.1)\n",
    "ys_cos = np.cos(xs)\n",
    "ys_sqrt = np.sqrt(xs)\n",
    "\n",
    "plt.plot(xs, ys_cos)\n",
    "plt.plot(xs, ys_sqrt)\n",
    "\n",
    "plt.xlim(0.6, 0.7)\n",
    "plt.ylim(0.6, 1)"
   ]
  },
  {
   "cell_type": "code",
   "execution_count": 3,
   "metadata": {},
   "outputs": [
    {
     "name": "stdout",
     "output_type": "stream",
     "text": [
      "0.6417669098926798\n"
     ]
    }
   ],
   "source": [
    "def f(x):\n",
    "    if x < 0:\n",
    "        raise ValueError(f\"x can't be negative, got {x}\")\n",
    "    return np.cos(x) - np.sqrt(x)\n",
    "\n",
    "def solve(func, a, eps=0.001, initial_value=1, verbose=False):\n",
    "    x =  initial_value\n",
    "    steps_amount = 0\n",
    "    while True:\n",
    "        next_x = x + a * func(x)\n",
    "        steps_amount += 1\n",
    "        if verbose:\n",
    "            print(next_x, end='\\r')\n",
    "        if abs(next_x - x) <= eps:\n",
    "            return steps_amount, next_x\n",
    "        x = next_x\n",
    "\n",
    "_, root = solve(f, 1)\n",
    "print(root)"
   ]
  },
  {
   "cell_type": "markdown",
   "metadata": {},
   "source": [
    "Find the solution (and number of iterations) of the equation above using fixed-point iteration for $\\alpha = 1$ and $\\epsilon = 0.001$ (for Google form)."
   ]
  },
  {
   "cell_type": "code",
   "execution_count": 4,
   "metadata": {},
   "outputs": [
    {
     "name": "stdout",
     "output_type": "stream",
     "text": [
      "6\n",
      "0.6417669098926798\n"
     ]
    }
   ],
   "source": [
    "iterations, root = solve(\n",
    "    lambda x: np.cos(x) - np.sqrt(x),\n",
    "    a=1,\n",
    "    eps=0.001\n",
    ")\n",
    "print(iterations)\n",
    "print(root)"
   ]
  },
  {
   "cell_type": "markdown",
   "metadata": {},
   "source": [
    "# 2. Inverse quadratic interpolation"
   ]
  },
  {
   "cell_type": "markdown",
   "metadata": {},
   "source": [
    "Suppose we have three different consequitive iterates $x_0$, $x_1$ and $x_2$ and a function $f(x)$: $y_i = f(x_i)$.\n",
    "\n",
    "Construct a unique parabola which passes through $(x_i, y_i)$. Take as a next approximation, $x_3$, the root of this parabola.\n",
    "\n",
    "In order not to solve another nonlinear equation on each step, use an inverse interpolation: construct a second order polynomial $Q(y)$ such that $Q(y_i) = x_i$. Then $x_3 = Q(0)$."
   ]
  },
  {
   "cell_type": "markdown",
   "metadata": {},
   "source": [
    "Now, write a function which finds the solution using inverse quadratic interpolation up to a predefined accuracy $\\epsilon$."
   ]
  },
  {
   "cell_type": "code",
   "execution_count": 5,
   "metadata": {},
   "outputs": [],
   "source": [
    "def inverse_quadratic_interpolation(f, x0, x1, x2, eps=1e-5):\n",
    "    iterations_count = 0\n",
    "    while abs(x1-x0) > eps:\n",
    "        fx0 = f(x0)\n",
    "        fx1 = f(x1)\n",
    "        fx2 = f(x2)\n",
    "        L0 = (x0 * fx1 * fx2) / ((fx0 - fx1) * (fx0 - fx2))\n",
    "        L1 = (x1 * fx0 * fx2) / ((fx1 - fx0) * (fx1 - fx2))\n",
    "        L2 = (x2 * fx1 * fx0) / ((fx2 - fx0) * (fx2 - fx1))\n",
    "        new = L0 + L1 + L2\n",
    "        x0, x1, x2 = new, x0, x1\n",
    "        iterations_count += 1\n",
    "    return iterations_count, x0"
   ]
  },
  {
   "cell_type": "code",
   "execution_count": 6,
   "metadata": {},
   "outputs": [],
   "source": [
    "from scipy.special import cotdg"
   ]
  },
  {
   "cell_type": "code",
   "execution_count": 7,
   "metadata": {},
   "outputs": [],
   "source": [
    "# xs - градусы\n",
    "xs = [0.6, 0.8, 1]\n",
    "ys = cotdg(xs)"
   ]
  },
  {
   "cell_type": "code",
   "execution_count": 8,
   "metadata": {},
   "outputs": [
    {
     "name": "stdout",
     "output_type": "stream",
     "text": [
      "11\n",
      "89.9999999644877\n"
     ]
    }
   ],
   "source": [
    "iters, x0 = inverse_quadratic_interpolation(\n",
    "    cotdg,\n",
    "    *xs,\n",
    "    eps=0.001\n",
    ")\n",
    "print(iters)\n",
    "print(x0)"
   ]
  },
  {
   "cell_type": "code",
   "execution_count": 9,
   "metadata": {},
   "outputs": [
    {
     "data": {
      "text/plain": [
       "0.0"
      ]
     },
     "execution_count": 9,
     "metadata": {},
     "output_type": "execute_result"
    }
   ],
   "source": [
    "cotdg(90)"
   ]
  },
  {
   "cell_type": "markdown",
   "metadata": {},
   "source": [
    "Now implement your function to solve equation\n",
    "$$x = \\mbox{ctg}(x)$$\n",
    "in the interval $x \\in (0.5, 1)$ with $x_0 = 0.6$, $x_1 = 0.8$ and $x_2 = 1$. What is the solution for $\\epsilon = 0.001$? How many iterations did it take to find it? (You will need the answers for Google Form)."
   ]
  },
  {
   "cell_type": "markdown",
   "metadata": {},
   "source": [
    "# 3. Newton-Raphson method"
   ]
  },
  {
   "cell_type": "markdown",
   "metadata": {},
   "source": [
    "Implement the Newton-Raphson method to solve equation $z^3 - 1 = 0$ for complex $z$. Visualize and describe the convergence domain."
   ]
  },
  {
   "cell_type": "code",
   "execution_count": 10,
   "metadata": {},
   "outputs": [
    {
     "name": "stdout",
     "output_type": "stream",
     "text": [
      "root is: 1\n",
      "steps taken: 0\n"
     ]
    }
   ],
   "source": [
    "def discrete_method_approx(f, x, h=.00000001):\n",
    "    return (f(x+h) - f(x)) / h\n",
    " \n",
    "def newton_raphson(f, x, tolerance=.001):\n",
    "    steps_taken = 0\n",
    " \n",
    "    while abs(f(x)) > tolerance:\n",
    "        df = discrete_method_approx(f, x)\n",
    "        x = x - f(x)/df\n",
    "        steps_taken += 1\n",
    "    return x, steps_taken\n",
    " \n",
    "f = lambda z: z**3 - 1\n",
    " \n",
    "root, steps = newton_raphson(f, 1)\n",
    "print(f\"root is: {root}\")\n",
    "print(\"steps taken:\", steps)"
   ]
  },
  {
   "cell_type": "code",
   "execution_count": 11,
   "metadata": {},
   "outputs": [],
   "source": [
    "import itertools\n",
    "roots = [\n",
    "    (-0.5 + 0.86j),\n",
    "    (-0.5 - 0.86j),\n",
    "    1\n",
    "]\n",
    "colors = 'rgb'\n",
    "root_colors_dict = dict(zip(roots, colors))\n",
    "\n",
    "def find_closest_root(value):\n",
    "    for root in roots:\n",
    "        if np.isclose(value, root, atol=0.1):\n",
    "            return root\n",
    "    raise ValueError(f\"Can't find closest root with atol=0.1, got {value}\")\n",
    "\n",
    "\n",
    "real_list = np.arange(-3, 3, 0.05)\n",
    "imag_list = np.arange(-3, 3, 0.05)\n",
    "all_values = list(itertools.product(real_list, imag_list))"
   ]
  },
  {
   "cell_type": "code",
   "execution_count": 18,
   "metadata": {},
   "outputs": [
    {
     "data": {
      "image/png": "[encoded data removed]",
      "text/plain": [
       "<Figure size 864x576 with 1 Axes>"
      ]
     },
     "metadata": {
      "needs_background": "light"
     },
     "output_type": "display_data"
    }
   ],
   "source": [
    "plt.figure(figsize=(12, 8))\n",
    "\n",
    "for real, imag in all_values:\n",
    "    value = real + imag * 1j\n",
    "    possible_root, _ = newton_raphson(f, value)\n",
    "    value = find_closest_root(possible_root)\n",
    "        \n",
    "    plt.scatter(real, imag, c=root_colors_dict[value])\n",
    "\n",
    "plt.title('Convergence domain for z^3 - 1 = 0')\n",
    "plt.xlabel('real')\n",
    "plt.ylabel('imag')\n",
    "plt.show()"
   ]
  },
  {
   "cell_type": "markdown",
   "metadata": {},
   "source": [
    "Hint: visualize the convergence domain as a scatter plot of coloured points (the colour of the point depends on the root it converged to)."
   ]
  }
 ],
 "metadata": {
  "kernelspec": {
   "display_name": "Python 3",
   "language": "python",
   "name": "python3"
  },
  "language_info": {
   "codemirror_mode": {
    "name": "ipython",
    "version": 3
   },
   "file_extension": ".py",
   "mimetype": "text/x-python",
   "name": "python",
   "nbconvert_exporter": "python",
   "pygments_lexer": "ipython3",
   "version": "3.7.3"
  }
 },
 "nbformat": 4,
 "nbformat_minor": 2
}
