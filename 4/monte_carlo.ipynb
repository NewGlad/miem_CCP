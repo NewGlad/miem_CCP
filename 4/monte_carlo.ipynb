{
 "cells": [
  {
   "cell_type": "code",
   "execution_count": 2,
   "metadata": {},
   "outputs": [],
   "source": [
    "import matplotlib.pyplot as plt\n",
    "import numpy as np"
   ]
  },
  {
   "cell_type": "markdown",
   "metadata": {},
   "source": [
    "## Part 1"
   ]
  },
  {
   "cell_type": "code",
   "execution_count": 22,
   "metadata": {},
   "outputs": [],
   "source": [
    "EXPERIMENTS_AMOUNT = 1000000\n",
    "G = 6.67384 * 10**(-11)\n",
    "\n",
    "m1_val = 40*10**4\n",
    "m1_var = 0.05 * 10**4\n",
    "\n",
    "m2_val = 30*10**4\n",
    "m2_var = 0.1 * 10**4\n",
    "\n",
    "r_val = 3.2\n",
    "r_var = 0.01\n",
    "\n",
    "\n",
    "m1 = np.random.normal(m1_val, m1_var, EXPERIMENTS_AMOUNT)\n",
    "m2 = np.random.normal(m2_val, m2_var, EXPERIMENTS_AMOUNT)\n",
    "r = np.random.normal(r_val, r_var, EXPERIMENTS_AMOUNT)"
   ]
  },
  {
   "cell_type": "code",
   "execution_count": 32,
   "metadata": {},
   "outputs": [],
   "source": [
    "m12_var = m1_val*m2_var + m2_val*m1_var\n",
    "r_quad_var = 2*(r_val * r_var)\n",
    "\n",
    "r_quad  = r_val**2\n",
    "m12 = m1_val * m2_val\n",
    "\n",
    "f_var = (r_quad_var * m12 + r_quad * m12_var) / r_quad ** 2\n",
    "\n",
    "f_val = (m1_val * m2_val) / r_quad"
   ]
  },
  {
   "cell_type": "code",
   "execution_count": 33,
   "metadata": {},
   "outputs": [
    {
     "data": {
      "text/plain": [
       "(11718749999.999998, 126953124.99999994)"
      ]
     },
     "execution_count": 33,
     "metadata": {},
     "output_type": "execute_result"
    }
   ],
   "source": [
    "f_val, f_var"
   ]
  },
  {
   "cell_type": "code",
   "execution_count": 38,
   "metadata": {},
   "outputs": [],
   "source": [
    "f_mc = m1*m2 / r**2\n",
    "\n",
    "f_calc = np.random.normal(f_val, f_var, EXPERIMENTS_AMOUNT)"
   ]
  },
  {
   "cell_type": "code",
   "execution_count": 45,
   "metadata": {},
   "outputs": [
    {
     "data": {
      "text/plain": [
       "<matplotlib.legend.Legend at 0x7f1003cdab70>"
      ]
     },
     "execution_count": 45,
     "metadata": {},
     "output_type": "execute_result"
    },
    {
     "data": {
      "image/png": "[encoded data removed]",
      "text/plain": [
       "<Figure size 432x288 with 1 Axes>"
      ]
     },
     "metadata": {
      "needs_background": "light"
     },
     "output_type": "display_data"
    }
   ],
   "source": [
    "_ = plt.hist(f_calc, bins=1500, label='Calculated value')\n",
    "_ = plt.hist(f_mc, bins=1500, label='Monte-Carlo method')\n",
    "plt.legend()"
   ]
  },
  {
   "cell_type": "markdown",
   "metadata": {},
   "source": [
    "## Part 2"
   ]
  },
  {
   "cell_type": "code",
   "execution_count": 53,
   "metadata": {},
   "outputs": [],
   "source": [
    "EXPERIMENTS_AMOUNT = 1000000\n",
    "G = 6.67384 * 10**(-11)\n",
    "\n",
    "m1_val = 40 * 10**4\n",
    "m1_var = 2 * 10**4\n",
    "\n",
    "m2_val = 30 * 10**4\n",
    "m2_var = 10 * 10**4\n",
    "\n",
    "r_val = 3.2\n",
    "r_var = 1\n",
    "\n",
    "\n",
    "m1 = np.random.normal(m1_val, m1_var, EXPERIMENTS_AMOUNT)\n",
    "m2 = np.random.normal(m2_val, m2_var, EXPERIMENTS_AMOUNT)\n",
    "r = np.random.normal(r_val, r_var, EXPERIMENTS_AMOUNT)"
   ]
  },
  {
   "cell_type": "code",
   "execution_count": 54,
   "metadata": {},
   "outputs": [],
   "source": [
    "m12_var = m1_val*m2_var + m2_val*m1_var\n",
    "r_quad_var = 2*(r_val * r_var)\n",
    "\n",
    "r_quad  = r_val**2\n",
    "m12 = m1_val * m2_val\n",
    "\n",
    "f_var = (r_quad_var * m12 + r_quad * m12_var) / r_quad ** 2\n",
    "\n",
    "f_val = (m1_val * m2_val) / r_quad\n",
    "\n",
    "\n",
    "f_mc = m1*m2 / r**2\n",
    "\n",
    "f_calc = np.random.normal(f_val, f_var, EXPERIMENTS_AMOUNT)"
   ]
  },
  {
   "cell_type": "code",
   "execution_count": 69,
   "metadata": {},
   "outputs": [
    {
     "data": {
      "text/plain": [
       "11718749999.999998"
      ]
     },
     "execution_count": 69,
     "metadata": {},
     "output_type": "execute_result"
    }
   ],
   "source": [
    "f_val"
   ]
  },
  {
   "cell_type": "code",
   "execution_count": 66,
   "metadata": {},
   "outputs": [
    {
     "data": {
      "text/plain": [
       "1741759889974.8413"
      ]
     },
     "execution_count": 66,
     "metadata": {},
     "output_type": "execute_result"
    }
   ],
   "source": [
    "np.mean(f_mc)"
   ]
  },
  {
   "cell_type": "code",
   "execution_count": 65,
   "metadata": {},
   "outputs": [
    {
     "data": {
      "text/plain": [
       "<matplotlib.legend.Legend at 0x7f0fe3308be0>"
      ]
     },
     "execution_count": 65,
     "metadata": {},
     "output_type": "execute_result"
    },
    {
     "data": {
      "image/png": "[encoded data removed]",
      "text/plain": [
       "<Figure size 432x288 with 1 Axes>"
      ]
     },
     "metadata": {
      "needs_background": "light"
     },
     "output_type": "display_data"
    }
   ],
   "source": [
    "# _ = plt.hist(f_calc, label='Calculated value')\n",
    "_ = plt.hist(f_mc, bins=10, label='Monte-Carlo method')\n",
    "plt.legend()"
   ]
  }
 ],
 "metadata": {
  "kernelspec": {
   "display_name": "Python 3",
   "language": "python",
   "name": "python3"
  },
  "language_info": {
   "codemirror_mode": {
    "name": "ipython",
    "version": 3
   },
   "file_extension": ".py",
   "mimetype": "text/x-python",
   "name": "python",
   "nbconvert_exporter": "python",
   "pygments_lexer": "ipython3",
   "version": "3.7.3"
  }
 },
 "nbformat": 4,
 "nbformat_minor": 2
}
